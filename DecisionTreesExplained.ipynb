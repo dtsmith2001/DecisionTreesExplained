{
 "cells": [
  {
   "cell_type": "markdown",
   "metadata": {},
   "source": [
    "# Decision Trees Explained\n",
    "\n",
    "Decision trees seem impenitrible but they are just if-then-else rules. The conditionals are chosen by the data. Thus, we rarely use a single decision tree as it will probably have poor generalization.\n",
    "\n",
    "http://stackoverflow.com/questions/20224526/how-to-extract-the-decision-rules-from-scikit-learn-decision-tree"
   ]
  },
  {
   "cell_type": "code",
   "execution_count": 11,
   "metadata": {
    "collapsed": false
   },
   "outputs": [
    {
     "data": {
      "text/plain": [
       "DecisionTreeClassifier(class_weight=None, criterion='gini', max_depth=5,\n",
       "            max_features=None, max_leaf_nodes=None, min_samples_leaf=1,\n",
       "            min_samples_split=2, min_weight_fraction_leaf=0.0,\n",
       "            presort=False, random_state=None, splitter='best')"
      ]
     },
     "execution_count": 11,
     "metadata": {},
     "output_type": "execute_result"
    }
   ],
   "source": [
    "import pandas as pd\n",
    "import numpy as np\n",
    "from sklearn.tree import DecisionTreeClassifier\n",
    "from sklearn import tree\n",
    "from sklearn.externals.six import StringIO as StringIO\n",
    "\n",
    "# dummy data:\n",
    "df = pd.DataFrame({'col1':[0,1,2,3],'col2':[3,4,5,6],'dv':[0,1,0,1]})\n",
    "\n",
    "# create decision tree\n",
    "dt = DecisionTreeClassifier(max_depth=5, min_samples_leaf=1)\n",
    "dt.fit(df.ix[:,:2], df.dv)"
   ]
  },
  {
   "cell_type": "code",
   "execution_count": 3,
   "metadata": {
    "collapsed": false
   },
   "outputs": [
    {
     "data": {
      "text/plain": [
       "Index(['col1', 'col2'], dtype='object')"
      ]
     },
     "execution_count": 3,
     "metadata": {},
     "output_type": "execute_result"
    }
   ],
   "source": [
    "df.ix[:,:2].columns"
   ]
  },
  {
   "cell_type": "code",
   "execution_count": 4,
   "metadata": {
    "collapsed": true
   },
   "outputs": [],
   "source": [
    "def print_decision_tree(tree, feature_names=None, offset_unit='    '):\n",
    "    '''\n",
    "    Plots textual representation of rules of a decision tree\n",
    "    \n",
    "    tree: scikit-learn representation of tree\n",
    "    feature_names: list of feature names. They are set to f1,f2,f3,... if not specified\n",
    "    offset_unit: a string of offset of the conditional block\n",
    "    \n",
    "    See http://stackoverflow.com/a/35840109\n",
    "    '''\n",
    "    left      = tree.tree_.children_left\n",
    "    right     = tree.tree_.children_right\n",
    "    threshold = tree.tree_.threshold\n",
    "    value = tree.tree_.value\n",
    "    if feature_names is None:\n",
    "        features  = ['f%d'%i for i in tree.tree_.feature]\n",
    "    else:\n",
    "        features  = [feature_names[i] for i in tree.tree_.feature]        \n",
    "\n",
    "    def recurse(left, right, threshold, features, node, depth=0):\n",
    "            offset = offset_unit*depth\n",
    "            if (threshold[node] != -2):\n",
    "                    print(offset+\"if ( \" + features[node] + \" <= \" + str(threshold[node]) + \" ) {\")\n",
    "                    if left[node] != -1:\n",
    "                            recurse (left, right, threshold, features,left[node],depth+1)\n",
    "                    print(offset+\"} else {\")\n",
    "                    if right[node] != -1:\n",
    "                            recurse (left, right, threshold, features,right[node],depth+1)\n",
    "                    print(offset+\"}\")\n",
    "            else:\n",
    "                    print(offset+\"return \" + str(value[node]))\n",
    "\n",
    "    recurse(left, right, threshold, features, 0,0)"
   ]
  },
  {
   "cell_type": "code",
   "execution_count": 5,
   "metadata": {
    "collapsed": false
   },
   "outputs": [
    {
     "name": "stdout",
     "output_type": "stream",
     "text": [
      "if ( col2 <= 3.5 ) {\n",
      "    return [[ 1.  0.]]\n",
      "} else {\n",
      "    if ( col2 <= 4.5 ) {\n",
      "        return [[ 0.  1.]]\n",
      "    } else {\n",
      "        if ( col1 <= 2.5 ) {\n",
      "            return [[ 1.  0.]]\n",
      "        } else {\n",
      "            return [[ 0.  1.]]\n",
      "        }\n",
      "    }\n",
      "}\n"
     ]
    }
   ],
   "source": [
    "print_decision_tree(dt, df.ix[:,:2].columns)"
   ]
  },
  {
   "cell_type": "code",
   "execution_count": 16,
   "metadata": {
    "collapsed": false
   },
   "outputs": [],
   "source": [
    "out = tree.export_graphviz(dt, out_file=StringIO())"
   ]
  },
  {
   "cell_type": "code",
   "execution_count": 18,
   "metadata": {
    "collapsed": false
   },
   "outputs": [],
   "source": [
    "out"
   ]
  },
  {
   "cell_type": "code",
   "execution_count": null,
   "metadata": {
    "collapsed": true
   },
   "outputs": [],
   "source": []
  }
 ],
 "metadata": {
  "anaconda-cloud": {},
  "kernelspec": {
   "display_name": "Python [default]",
   "language": "python",
   "name": "python3"
  },
  "language_info": {
   "codemirror_mode": {
    "name": "ipython",
    "version": 3
   },
   "file_extension": ".py",
   "mimetype": "text/x-python",
   "name": "python",
   "nbconvert_exporter": "python",
   "pygments_lexer": "ipython3",
   "version": "3.5.2"
  }
 },
 "nbformat": 4,
 "nbformat_minor": 1
}
